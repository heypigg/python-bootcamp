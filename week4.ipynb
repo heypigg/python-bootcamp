{
 "cells": [
  {
   "cell_type": "markdown",
   "metadata": {},
   "source": [
    "# Week 4"
   ]
  },
  {
   "cell_type": "markdown",
   "metadata": {},
   "source": [
    "## Lists"
   ]
  },
  {
   "cell_type": "code",
   "execution_count": 1,
   "metadata": {},
   "outputs": [
    {
     "name": "stdout",
     "output_type": "stream",
     "text": [
      "[5, 10, 15.2, 20]\n"
     ]
    }
   ],
   "source": [
    "# declaring a list of numbers\n",
    "nums = [5, 10, 15.2, 20]\n",
    "print(nums)"
   ]
  },
  {
   "cell_type": "code",
   "execution_count": 2,
   "metadata": {},
   "outputs": [
    {
     "name": "stdout",
     "output_type": "stream",
     "text": [
      "10\n",
      "15.2\n"
     ]
    }
   ],
   "source": [
    "# accessing elements within a list\n",
    "print(nums[1])     # will output the value at index 1 = 10\n",
    "num = nums[2]      # saves index value 2 into num\n",
    "print(num)         # prints value assignede to num"
   ]
  },
  {
   "cell_type": "code",
   "execution_count": 3,
   "metadata": {},
   "outputs": [
    {
     "name": "stdout",
     "output_type": "stream",
     "text": [
      "[4.3, 'word', True]\n"
     ]
    }
   ],
   "source": [
    "# decalring a list of mixed data types\n",
    "num = 4.3\n",
    "data = [num, \"word\", True]     # the power of data collection\n",
    "print(data)"
   ]
  },
  {
   "cell_type": "code",
   "execution_count": 5,
   "metadata": {},
   "outputs": [
    {
     "name": "stdout",
     "output_type": "stream",
     "text": [
      "[5, 'book', [34, 'hello'], True]\n",
      "[34, 'hello']\n"
     ]
    }
   ],
   "source": [
    "# understanading lists within lists\n",
    "data = [5, \"book\", [34, \"hello\"], True]     # lists can hold any type\n",
    "print(data)\n",
    "print(data[2])"
   ]
  },
  {
   "cell_type": "code",
   "execution_count": 6,
   "metadata": {},
   "outputs": [
    {
     "name": "stdout",
     "output_type": "stream",
     "text": [
      "34\n",
      "hello\n"
     ]
    }
   ],
   "source": [
    "# using double bracket notation to access lists within lists\n",
    "print(data[2][0])     # will output 34\n",
    "inner_list = data[2]  # inner list will equal [34, 'hello']\n",
    "print(inner_list[1])  # will otuput 'hello'"
   ]
  },
  {
   "cell_type": "code",
   "execution_count": 7,
   "metadata": {},
   "outputs": [
    {
     "name": "stdout",
     "output_type": "stream",
     "text": [
      "[5, 10, 15, 20]\n",
      "[100, 10, 15, 20]\n"
     ]
    }
   ],
   "source": [
    "# changing valuues in a list through index\n",
    "data = [5, 10, 15, 20]\n",
    "print(data)\n",
    "data[0] = 100     # change the value at index 0 - (5 to 100)\n",
    "print(data)"
   ]
  },
  {
   "cell_type": "code",
   "execution_count": 15,
   "metadata": {},
   "outputs": [
    {
     "name": "stdout",
     "output_type": "stream",
     "text": [
      "a:[5, 10]\tb:[5, 10]\n",
      "Location a[0]:4335650048\tLocation b[0]:4335650048\n",
      "a:[20, 10]\tb:[20, 10]\n"
     ]
    }
   ],
   "source": [
    "# understanding how lists are stored\n",
    "a = [5, 10]\n",
    "b = a\n",
    "print(f\"a:{a}\\tb:{b}\")\n",
    "print(f\"Location a[0]:{id(a[0])}\\tLocation b[0]:{id(b[0])}\")\n",
    "a[0] = 20\n",
    "# re-declaring the value of a[0] also changes b[0]\n",
    "print(f\"a:{a}\\tb:{b}\")"
   ]
  },
  {
   "cell_type": "code",
   "execution_count": 18,
   "metadata": {},
   "outputs": [
    {
     "name": "stdout",
     "output_type": "stream",
     "text": [
      "data:[50, 10, 15, 20]\tdata_copy:[5, 10, 15, 20]\n"
     ]
    }
   ],
   "source": [
    "# using [:] to copy a list\n",
    "data = [5, 10, 15, 20]\n",
    "data_copy = data[:]     # a single colon copies the list\n",
    "data[0] = 50\n",
    "print(f\"data:{data}\\tdata_copy:{data_copy}\")"
   ]
  },
  {
   "cell_type": "markdown",
   "metadata": {},
   "source": [
    "# For Loops"
   ]
  },
  {
   "cell_type": "code",
   "execution_count": 19,
   "metadata": {},
   "outputs": [
    {
     "name": "stdout",
     "output_type": "stream",
     "text": [
      "Value:0\n",
      "Value:1\n",
      "Value:2\n",
      "Value:3\n",
      "Value:4\n"
     ]
    }
   ],
   "source": [
    "# writing your first loop using range\n",
    "for num in range(5):\n",
    "    print(f\"Value:{num}\")"
   ]
  },
  {
   "cell_type": "code",
   "execution_count": 21,
   "metadata": {},
   "outputs": [
    {
     "name": "stdout",
     "output_type": "stream",
     "text": [
      "Value:2\n",
      "Value:4\n",
      "Value:6\n",
      "Value:8\n"
     ]
    }
   ],
   "source": [
    "# providing the start, stop, nd step for the range funcution\n",
    "for num in range(2, 10, 2):\n",
    "    print(f\"Value:{num}\")     # will print all evens between 2 and 10"
   ]
  },
  {
   "cell_type": "code",
   "execution_count": 22,
   "metadata": {},
   "outputs": [
    {
     "name": "stdout",
     "output_type": "stream",
     "text": [
      "Value:E\n",
      "Value:r\n",
      "Value:i\n",
      "Value:k\n",
      "Value: \n",
      "Value:M\n",
      "Value:o\n",
      "Value:l\n",
      "Value:n\n",
      "Value:a\n",
      "Value:r\n"
     ]
    }
   ],
   "source": [
    "# printing all characters in a name using the 'in' keyword\n",
    "name = 'Erik Molnar'\n",
    "for letter in name:\n",
    "    print(f\"Value:{letter}\")"
   ]
  },
  {
   "cell_type": "code",
   "execution_count": 23,
   "metadata": {},
   "outputs": [
    {
     "name": "stdout",
     "output_type": "stream",
     "text": [
      "0\n",
      "1\n",
      "2\n",
      "4\n"
     ]
    }
   ],
   "source": [
    "# using the continue statement within a for loop\n",
    "for num in range(5):\n",
    "    if num == 3:\n",
    "        continue\n",
    "    print(num)"
   ]
  },
  {
   "cell_type": "code",
   "execution_count": 26,
   "metadata": {},
   "outputs": [
    {
     "name": "stdout",
     "output_type": "stream",
     "text": [
      "0\n",
      "1\n",
      "2\n"
     ]
    }
   ],
   "source": [
    "# breaking out of a loop using the 'break' keyword\n",
    "for num in range(5):\n",
    "    if num ==3:\n",
    "        break\n",
    "    print(num)"
   ]
  },
  {
   "cell_type": "code",
   "execution_count": 28,
   "metadata": {},
   "outputs": [],
   "source": [
    "# setting a placeholer using the 'pass' keyword\n",
    "for i in range(5):\n",
    "    # TODO: aadd code to print number\n",
    "    pass"
   ]
  },
  {
   "cell_type": "markdown",
   "metadata": {},
   "source": [
    "# While loops"
   ]
  },
  {
   "cell_type": "code",
   "execution_count": 30,
   "metadata": {},
   "outputs": [
    {
     "name": "stdout",
     "output_type": "stream",
     "text": [
      "10\n",
      "9\n",
      "8\n",
      "7\n",
      "6\n",
      "5\n",
      "4\n",
      "3\n",
      "2\n",
      "1\n"
     ]
    }
   ],
   "source": [
    "# writing your first while loop\n",
    "health = 10\n",
    "while health > 0:\n",
    "    print(health)\n",
    "    health -= 1     # forgettinig thisi line will rsult in infinite loop"
   ]
  },
  {
   "cell_type": "code",
   "execution_count": 31,
   "metadata": {},
   "outputs": [
    {
     "name": "stdout",
     "output_type": "stream",
     "text": [
      "0 0\n",
      "0 1\n",
      "0 2\n",
      "1 0\n",
      "1 1\n",
      "1 2\n"
     ]
    }
   ],
   "source": [
    "# using two or more loops together is called a nested loop\n",
    "for i in range(2): # outside loop\n",
    "    for j in range(3): # inside loop\n",
    "        print(i, j)"
   ]
  },
  {
   "cell_type": "markdown",
   "metadata": {},
   "source": [
    "# Working with lists"
   ]
  },
  {
   "cell_type": "code",
   "execution_count": 32,
   "metadata": {},
   "outputs": [
    {
     "name": "stdout",
     "output_type": "stream",
     "text": [
      "3\n"
     ]
    }
   ],
   "source": [
    "# checking the number of items within a list\n",
    "nums = [5, 10, 15]\n",
    "length = len(nums)    # len() returns an integer\n",
    "print(length)"
   ]
  },
  {
   "cell_type": "code",
   "execution_count": 34,
   "metadata": {},
   "outputs": [
    {
     "name": "stdout",
     "output_type": "stream",
     "text": [
      "[10, 15]\n",
      "[5, 10]\n",
      "[5, 15]\n",
      "[10, 15]\n"
     ]
    }
   ],
   "source": [
    "# accessing specific items of a list with slices\n",
    "print(nums[1:3])     # will output items in index 1 and 2\n",
    "print(nums[:2])      # will output items in index 0 and 1\n",
    "print(nums[::2])     # will print every other index - 0, 2, 4, etc.\n",
    "print(nums[-2:])     # will output the last two items in list"
   ]
  },
  {
   "cell_type": "code",
   "execution_count": 42,
   "metadata": {},
   "outputs": [
    {
     "name": "stdout",
     "output_type": "stream",
     "text": [
      "[10, 20, 5]\n"
     ]
    }
   ],
   "source": [
    "# adding an item to the back of a list using append\n",
    "nums = [10, 20]\n",
    "nums.append(5)\n",
    "print(nums)     # outputs [10, 20, 5]"
   ]
  },
  {
   "cell_type": "code",
   "execution_count": 46,
   "metadata": {},
   "outputs": [],
   "source": [
    "# adding a value to the beginning of the list\n",
    "words = [\"ball\",\"base\"]\n",
    "nums.insert(0,\"glove\")     # first number is the index, second is the value"
   ]
  },
  {
   "cell_type": "code",
   "execution_count": 48,
   "metadata": {},
   "outputs": [
    {
     "name": "stdout",
     "output_type": "stream",
     "text": [
      "5 \n",
      " ['ball']\n"
     ]
    }
   ],
   "source": [
    "# using pop to remove items nad saving to a variable to use later\n",
    "items = [5,\"ball\",True]\n",
    "items.pop()     # by default removed the last item\n",
    "removed_item = items.pop(0)     # removes 5 and saves it into the variable\n",
    "print(removed_item,\"\\n\",items)"
   ]
  },
  {
   "cell_type": "code",
   "execution_count": 49,
   "metadata": {},
   "outputs": [
    {
     "name": "stdout",
     "output_type": "stream",
     "text": [
      "['baseball', 'football', 'hockey']\n"
     ]
    }
   ],
   "source": [
    "# using the remove method with a try and except\n",
    "sports = [\"baseball\", \"soccer\", \"football\", \"hockey\"]\n",
    "try:\n",
    "    sports.remove(\"soccer\")\n",
    "except:\n",
    "    print(\"That item does not exist in the list\")\n",
    "print(sports)"
   ]
  },
  {
   "cell_type": "code",
   "execution_count": 50,
   "metadata": {},
   "outputs": [
    {
     "name": "stdout",
     "output_type": "stream",
     "text": [
      "3\n",
      "9\n",
      "17\n"
     ]
    }
   ],
   "source": [
    "# using min, maax, and sum\n",
    "nums = [5, 3, 9]\n",
    "print(min(nums))     # will find the lowest number in the list\n",
    "print(max(nums))     # will find the highest number in the llist\n",
    "print(sum(nums))     # will add all numbers in the list and return the sum"
   ]
  },
  {
   "cell_type": "code",
   "execution_count": 51,
   "metadata": {},
   "outputs": [
    {
     "name": "stdout",
     "output_type": "stream",
     "text": [
      "[5, 8, 0, 2] [0, 2, 5, 8]\n"
     ]
    }
   ],
   "source": [
    "# using sorted on lists for numerical and alphabetical data\n",
    "nums = [5, 8, 0, 2]\n",
    "sorted_nums = sorted(nums)     # save to a new variable to use later\n",
    "print(nums, sorted_nums)      # the original list is in tact"
   ]
  },
  {
   "cell_type": "code",
   "execution_count": 52,
   "metadata": {},
   "outputs": [
    {
     "name": "stdout",
     "output_type": "stream",
     "text": [
      "[0, 3, 5, 8]\n"
     ]
    }
   ],
   "source": [
    "# sorting a list with .sort() in-place\n",
    "nums = [5, 0, 8, 3]\n",
    "nums.sort()     # alerts the original variable directly\n",
    "print(nums)"
   ]
  },
  {
   "cell_type": "code",
   "execution_count": 53,
   "metadata": {},
   "outputs": [
    {
     "name": "stdout",
     "output_type": "stream",
     "text": [
      "found\n",
      "not found\n"
     ]
    }
   ],
   "source": [
    "# using conditional statements on a list\n",
    "names = [\"Jack\", \"Robert\", \"Mary\"]\n",
    "if \"Mary\" in names:\n",
    "    print(\"found\")     # will run since Mary is in the list\n",
    "if \"Jimmy\" not in names:\n",
    "    print(\"not found\") # will run since Jimmy is not in the list"
   ]
  },
  {
   "cell_type": "code",
   "execution_count": 54,
   "metadata": {},
   "outputs": [
    {
     "name": "stdout",
     "output_type": "stream",
     "text": [
      "empty\n"
     ]
    }
   ],
   "source": [
    "# using conditionals to see if a list is empty\n",
    "nums = []\n",
    "if not nums:     # could also say 'if nums == []'\n",
    "    print(\"empty\")"
   ]
  },
  {
   "cell_type": "code",
   "execution_count": 56,
   "metadata": {},
   "outputs": [
    {
     "name": "stdout",
     "output_type": "stream",
     "text": [
      "Baseball\n",
      "Hockey\n",
      "Football\n",
      "Basketball\n"
     ]
    }
   ],
   "source": [
    "# using a for loop to print all items in a list\n",
    "sports = [\"Baseball\", \"Hockey\", \"Football\", \"Basketball\"]\n",
    "for sport in sports:\n",
    "    print(sport)"
   ]
  },
  {
   "cell_type": "code",
   "execution_count": 58,
   "metadata": {},
   "outputs": [
    {
     "name": "stdout",
     "output_type": "stream",
     "text": [
      "['Jack', 'Rob', 'Robert']\n"
     ]
    }
   ],
   "source": [
    "# using the while loop to remove a certain value\n",
    "names = [\"Bob\", \"Jack\", \"Rob\", \"Bob\", \"Robert\"]\n",
    "while \"Bob\" in names:\n",
    "    names.remove(\"Bob\")     # remove all instances of 'Bob'\n",
    "print(names)"
   ]
  },
  {
   "cell_type": "markdown",
   "metadata": {},
   "source": [
    "# Creating Hangman"
   ]
  },
  {
   "cell_type": "code",
   "execution_count": null,
   "metadata": {},
   "outputs": [],
   "source": []
  },
  {
   "cell_type": "code",
   "execution_count": null,
   "metadata": {},
   "outputs": [],
   "source": [
    "# import addtional functions\n",
    "from random import choice\n",
    "from IPython.display import clear_output\n",
    "\n",
    "# declare game variables\n",
    "words = [\"tree\", \"basket\", \"chair\", \"paper\", \"python\"]\n",
    "word = choice(words)     # randomly chooses a word from words list\n",
    "guessed, lives, game_over = [], 7, False # multi variable assignment\n",
    "\n",
    "# create a list of underscores to the length of the word\n",
    "guesses = [\"_ \"] * len(word)\n",
    "\n",
    "# create main game loop\n",
    "while not game_over:\n",
    "        # output game information\n",
    "        hidden_word = \"\".join(guesses)\n",
    "        print(f\"Your guessed letters:{guessed}\")\n",
    "        print(f\"Word to guess:{hidden_word}\")\n",
    "        print(f\"Lives:{lives}\")\n",
    "        ans = input(\"Type quit or guess a letter: \").lower()\n",
    "        clear_output() # clear all previous output\n",
    "        if ans == \"quit\":\n",
    "            print(\"Thanks for playing.\")\n",
    "            game_over = True\n",
    "        elif ans in word and ans not in guessed: # check if letter in word\n",
    "            print(\"You guessed correctly!\")\n",
    "            # create a loop to change underscore to proper letter\n",
    "            for i in range(len(word)):\n",
    "                if word[i] == ans: # compares values at indexes\n",
    "                    guesses[i] = ans\n",
    "                elif ans in guessed:\n",
    "                    print(\"You already guessed that. Try again.\")\n",
    "        else:\n",
    "            lives -=1\n",
    "            print(\"Incorrect, you lost a life.\")\n",
    "            if ans not in guessed:\n",
    "                guessed.append(ans) # add ans to guessed list\n",
    "            if lives <= 0:\n",
    "                print(\"You list all your lives, you lost!\")\n",
    "                game_over = True\n",
    "            elif word == \"\".join(guesses):\n",
    "                print(\"Congratulations, you guessed it correctly!\")\n",
    "                game_over = True\n",
    "  "
   ]
  },
  {
   "cell_type": "code",
   "execution_count": null,
   "metadata": {},
   "outputs": [],
   "source": []
  },
  {
   "cell_type": "code",
   "execution_count": null,
   "metadata": {},
   "outputs": [],
   "source": []
  }
 ],
 "metadata": {
  "kernelspec": {
   "display_name": "Python 3",
   "language": "python",
   "name": "python3"
  },
  "language_info": {
   "codemirror_mode": {
    "name": "ipython",
    "version": 3
   },
   "file_extension": ".py",
   "mimetype": "text/x-python",
   "name": "python",
   "nbconvert_exporter": "python",
   "pygments_lexer": "ipython3",
   "version": "3.7.6"
  }
 },
 "nbformat": 4,
 "nbformat_minor": 4
}
